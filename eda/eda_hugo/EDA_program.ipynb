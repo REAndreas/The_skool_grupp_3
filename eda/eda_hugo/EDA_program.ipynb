{
 "cells": [
  {
   "cell_type": "code",
   "execution_count": 404,
   "metadata": {},
   "outputs": [],
   "source": [
    "import duckdb\n",
    "\n",
    "con = duckdb.connect(database=\":memory:\")\n",
    "\n",
    "con.sql(\"\"\"\n",
    "CREATE TABLE beslut AS\n",
    "    FROM 'data/resultat-ansokningsomgang-2020-2024-beslut.csv';\n",
    "CREATE TABLE diarie AS\n",
    "    FROM 'data/resultat-ansokningsomgang-2020-2024-diarie_kommun.csv';\n",
    "\"\"\")"
   ]
  },
  {
   "cell_type": "code",
   "execution_count": 405,
   "metadata": {},
   "outputs": [
    {
     "name": "stdout",
     "output_type": "stream",
     "text": [
      "┌─────────────────────────────────────┬─────────────┬─────────┬─────────┬─────────┬─────────┐\n",
      "│             column_name             │ column_type │  null   │   key   │ default │  extra  │\n",
      "│               varchar               │   varchar   │ varchar │ varchar │ varchar │ varchar │\n",
      "├─────────────────────────────────────┼─────────────┼─────────┼─────────┼─────────┼─────────┤\n",
      "│ Utbildningsområde                   │ VARCHAR     │ YES     │ NULL    │ NULL    │ NULL    │\n",
      "│ Utbildningsnamn                     │ VARCHAR     │ YES     │ NULL    │ NULL    │ NULL    │\n",
      "│ Län                                 │ VARCHAR     │ YES     │ NULL    │ NULL    │ NULL    │\n",
      "│ Kommun                              │ VARCHAR     │ YES     │ NULL    │ NULL    │ NULL    │\n",
      "│ Antal kommuner                      │ BIGINT      │ YES     │ NULL    │ NULL    │ NULL    │\n",
      "│ Flera kommuner                      │ BOOLEAN     │ YES     │ NULL    │ NULL    │ NULL    │\n",
      "│ YH-poäng                            │ BIGINT      │ YES     │ NULL    │ NULL    │ NULL    │\n",
      "│ Studieform                          │ VARCHAR     │ YES     │ NULL    │ NULL    │ NULL    │\n",
      "│ Studietakt %                        │ BIGINT      │ YES     │ NULL    │ NULL    │ NULL    │\n",
      "│ Utbildningsanordnare                │ VARCHAR     │ YES     │ NULL    │ NULL    │ NULL    │\n",
      "│ Huvudmannatyp                       │ VARCHAR     │ YES     │ NULL    │ NULL    │ NULL    │\n",
      "│ Sökta utbildningsomgångar           │ BIGINT      │ YES     │ NULL    │ NULL    │ NULL    │\n",
      "│ Beviljade utbildningsomgångar       │ BIGINT      │ YES     │ NULL    │ NULL    │ NULL    │\n",
      "│ Sökta platser totalt                │ BIGINT      │ YES     │ NULL    │ NULL    │ NULL    │\n",
      "│ Beviljade platser totalt            │ BIGINT      │ YES     │ NULL    │ NULL    │ NULL    │\n",
      "│ Sökta platser per utbildningsomgång │ BIGINT      │ YES     │ NULL    │ NULL    │ NULL    │\n",
      "│ Ansökningsomgång                    │ BIGINT      │ YES     │ NULL    │ NULL    │ NULL    │\n",
      "│ Diarienummer                        │ VARCHAR     │ YES     │ NULL    │ NULL    │ NULL    │\n",
      "│ Beslut                              │ BOOLEAN     │ YES     │ NULL    │ NULL    │ NULL    │\n",
      "├─────────────────────────────────────┴─────────────┴─────────┴─────────┴─────────┴─────────┤\n",
      "│ 19 rows                                                                         6 columns │\n",
      "└───────────────────────────────────────────────────────────────────────────────────────────┘\n",
      "\n"
     ]
    }
   ],
   "source": [
    "con.sql(\"\"\"describe beslut;\"\"\").show()"
   ]
  },
  {
   "cell_type": "code",
   "execution_count": 406,
   "metadata": {},
   "outputs": [
    {
     "data": {
      "text/plain": [
       "┌─────────┬───────────────────┬────────────────────────────────────────────────────────────────────┬──────────────┬──────────────┬────────────────────┬────────────────┬───────────────────┬────────────┬────────────────────┬─────────────────────────────────┬───────────────┬───────────────────────────┬───────────────────────────────┬──────────────────────┬──────────────────────────┬─────────────────────────────────────┬────────────────────┬───────────────┬─────────┐\n",
       "│  aggr   │ Utbildningsområde │                          Utbildningsnamn                           │     Län      │    Kommun    │   Antal kommuner   │ Flera kommuner │     YH-poäng      │ Studieform │    Studietakt %    │      Utbildningsanordnare       │ Huvudmannatyp │ Sökta utbildningsomgångar │ Beviljade utbildningsomgångar │ Sökta platser totalt │ Beviljade platser totalt │ Sökta platser per utbildningsomgång │  Ansökningsomgång  │ Diarienummer  │ Beslut  │\n",
       "│ varchar │      varchar      │                              varchar                               │   varchar    │   varchar    │       double       │    varchar     │      double       │  varchar   │       double       │             varchar             │    varchar    │          double           │            double             │        double        │          double          │               double                │       double       │    varchar    │ varchar │\n",
       "├─────────┼───────────────────┼────────────────────────────────────────────────────────────────────┼──────────────┼──────────────┼────────────────────┼────────────────┼───────────────────┼────────────┼────────────────────┼─────────────────────────────────┼───────────────┼───────────────────────────┼───────────────────────────────┼──────────────────────┼──────────────────────────┼─────────────────────────────────────┼────────────────────┼───────────────┼─────────┤\n",
       "│ count   │ 7640              │ 7640                                                               │ 7640         │ 7640         │             7640.0 │ 7640           │            7640.0 │ 7640       │             7640.0 │ 7640                            │ 7640          │                    7640.0 │                        7640.0 │               7640.0 │                   7640.0 │                              7640.0 │             7640.0 │ 7640          │ 7640    │\n",
       "│ mean    │ NULL              │ NULL                                                               │ NULL         │ NULL         │ 1.7663612565445026 │ NULL           │ 353.5969895287958 │ NULL       │  95.12434554973822 │ NULL                            │ NULL          │        3.6657068062827225 │            0.9267015706806283 │    92.90353403141361 │       23.564659685863873 │                  25.364005235602093 │  2021.791884816754 │ NULL          │ NULL    │\n",
       "│ stddev  │ NULL              │ NULL                                                               │ NULL         │ NULL         │ 1.5696907844064738 │ NULL           │ 88.82489833695931 │ NULL       │ 14.425471790646563 │ NULL                            │ NULL          │        0.9533026066420978 │             1.387626622080571 │   45.391217216730816 │       38.489291846850016 │                  10.276047854234903 │ 1.4112064740312367 │ NULL          │ NULL    │\n",
       "│ min     │ Data/IT           │ \\nSpecialistundersköterska med inriktning digital hälsa och teknik │ Blekinge     │ Alingsås     │                1.0 │ false          │             100.0 │ Bunden     │               50.0 │ ABF Göteborg Vuxenutbildning AB │ Kommun        │                       1.0 │                           0.0 │                  5.0 │                      0.0 │                                 2.0 │             2020.0 │ MYH 2020/1698 │ false   │\n",
       "│ max     │ Övrigt            │ Återbruksstrateg                                                   │ Östergötland │ Östra Göinge │               10.0 │ true           │             999.0 │ Distans    │              100.0 │ Östsvenska Yrkeshögskolan AB    │ Statlig       │                       5.0 │                           5.0 │                175.0 │                    175.0 │                                35.0 │             2024.0 │ MYH 2024/4278 │ true    │\n",
       "│ median  │ NULL              │ NULL                                                               │ NULL         │ NULL         │                1.0 │ NULL           │             400.0 │ NULL       │              100.0 │ NULL                            │ NULL          │                       3.0 │                           0.0 │                100.0 │                      0.0 │                                30.0 │             2022.0 │ NULL          │ NULL    │\n",
       "└─────────┴───────────────────┴────────────────────────────────────────────────────────────────────┴──────────────┴──────────────┴────────────────────┴────────────────┴───────────────────┴────────────┴────────────────────┴─────────────────────────────────┴───────────────┴───────────────────────────┴───────────────────────────────┴──────────────────────┴──────────────────────────┴─────────────────────────────────────┴────────────────────┴───────────────┴─────────┘"
      ]
     },
     "execution_count": 406,
     "metadata": {},
     "output_type": "execute_result"
    }
   ],
   "source": [
    "con.sql(\"\"\"select * from beslut;\"\"\").describe()"
   ]
  },
  {
   "cell_type": "code",
   "execution_count": 407,
   "metadata": {},
   "outputs": [
    {
     "name": "stdout",
     "output_type": "stream",
     "text": [
      "┌───────────────────────────────────────────────┬────────────────────┬────────────────┬──────────────┐\n",
      "│             Utbildningsanordnare              │ diarienummer_count │ beviljad_count │ beviljad_pct │\n",
      "│                    varchar                    │       int64        │     int128     │    double    │\n",
      "├───────────────────────────────────────────────┼────────────────────┼────────────────┼──────────────┤\n",
      "│ Företagsekonomiska Institutet 1888 AB         │                297 │             42 │        14.14 │\n",
      "│ TUC Sweden AB - Yrkeshögskola                 │                280 │            115 │        41.07 │\n",
      "│ Lernia Utbildning AB                          │                238 │             75 │        31.51 │\n",
      "│ JENSEN Education School AB                    │                230 │             27 │        11.74 │\n",
      "│ KYH AB                                        │                225 │             87 │        38.67 │\n",
      "│ YrkesAkademin YH AB                           │                222 │             94 │        42.34 │\n",
      "│ Göteborgs Stad, Yrgo                          │                168 │            100 │        59.52 │\n",
      "│ Chas Academy AB                               │                134 │             29 │        21.64 │\n",
      "│ Newton Kompetensutveckling AB                 │                124 │             17 │        13.71 │\n",
      "│ Plushögskolan AB - Teknikhögskolan            │                123 │             48 │        39.02 │\n",
      "│          ·                                    │                  · │              · │          ·   │\n",
      "│          ·                                    │                  · │              · │          ·   │\n",
      "│          ·                                    │                  · │              · │          ·   │\n",
      "│ Umeå kommun - Umevux                          │                  1 │              1 │        100.0 │\n",
      "│ Urban OM AB                                   │                  1 │              0 │          0.0 │\n",
      "│ Vansbro kommun/Lärcentrum Vansbro             │                  1 │              1 │        100.0 │\n",
      "│ Vflight AB                                    │                  1 │              0 │          0.0 │\n",
      "│ Vännäs kommun, Liljaskolan                    │                  1 │              1 │        100.0 │\n",
      "│ Västerbergslagens utbildningsförbund - Miljö  │                  1 │              1 │        100.0 │\n",
      "│ Västerbergslagens utbildningsförbund - Teknik │                  1 │              1 │        100.0 │\n",
      "│ XeDrix AB                                     │                  1 │              1 │        100.0 │\n",
      "│ Xpectum AB                                    │                  1 │              0 │          0.0 │\n",
      "│ YH Akademin(Marknad)                          │                  1 │              0 │          0.0 │\n",
      "├───────────────────────────────────────────────┴────────────────────┴────────────────┴──────────────┤\n",
      "│ 471 rows (20 shown)                                                                      4 columns │\n",
      "└────────────────────────────────────────────────────────────────────────────────────────────────────┘\n",
      "\n"
     ]
    }
   ],
   "source": [
    "con.sql(\"\"\"\n",
    "        select\n",
    "            \"Utbildningsanordnare\",\n",
    "            count (\"Diarienummer\") as \"diarienummer_count\",\n",
    "            sum(case when \"Beslut\" = true then 1 else 0 end) as beviljad_count,\n",
    "            round(100.0 * sum(case when \"Beslut\" = true then 1 else 0 end) / count(*), 2) as beviljad_pct\n",
    "        from beslut\n",
    "        group by \"Utbildningsanordnare\"\n",
    "        order by \"diarienummer_count\" desc, \"Utbildningsanordnare\";\n",
    "        \"\"\").show()"
   ]
  },
  {
   "cell_type": "code",
   "execution_count": 408,
   "metadata": {},
   "outputs": [
    {
     "name": "stdout",
     "output_type": "stream",
     "text": [
      "┌─────────────────────────────────────────────────────────┬──────────────────┬────────────────────┬────────────────┬──────────────┐\n",
      "│                  Utbildningsanordnare                   │ Ansökningsomgång │ diarienummer_count │ beviljad_count │ beviljad_pct │\n",
      "│                         varchar                         │      int64       │       int64        │     int128     │    double    │\n",
      "├─────────────────────────────────────────────────────────┼──────────────────┼────────────────────┼────────────────┼──────────────┤\n",
      "│ YrkesAkademin YH AB                                     │             2022 │                 68 │             40 │        58.82 │\n",
      "│ KYH AB                                                  │             2022 │                 74 │             32 │        43.24 │\n",
      "│ YrkesAkademin YH AB                                     │             2021 │                 65 │             31 │        47.69 │\n",
      "│ TUC Sweden AB - Yrkeshögskola                           │             2021 │                 80 │             30 │         37.5 │\n",
      "│ TUC Sweden AB - Yrkeshögskola                           │             2022 │                 54 │             27 │         50.0 │\n",
      "│ Göteborgs Stad, Yrgo                                    │             2021 │                 39 │             26 │        66.67 │\n",
      "│ KYH AB                                                  │             2020 │                 40 │             26 │         65.0 │\n",
      "│ Plushögskolan AB - Teknikhögskolan                      │             2020 │                 48 │             25 │        52.08 │\n",
      "│ Göteborgs Stad, Yrgo                                    │             2020 │                 40 │             23 │         57.5 │\n",
      "│ YrkesAkademin YH AB                                     │             2020 │                 89 │             23 │        25.84 │\n",
      "│         ·                                               │               ·  │                  · │              · │           ·  │\n",
      "│         ·                                               │               ·  │                  · │              · │           ·  │\n",
      "│         ·                                               │               ·  │                  · │              · │           ·  │\n",
      "│ Ängelholms kommun                                       │             2020 │                  1 │              0 │          0.0 │\n",
      "│ Ängelholms kommun                                       │             2021 │                  1 │              0 │          0.0 │\n",
      "│ Ängelholms kommun Vuxenutbildning                       │             2020 │                  3 │              0 │          0.0 │\n",
      "│ Örebro kommun Yrkesutbildningscenter                    │             2020 │                  1 │              0 │          0.0 │\n",
      "│ Örebro kommun Yrkesutbildningscenter                    │             2023 │                  1 │              0 │          0.0 │\n",
      "│ Östergötlands läns landsting  - Vreta utbildingscentrum │             2024 │                  1 │              0 │          0.0 │\n",
      "│ Östgöta revision AB                                     │             2023 │                  1 │              0 │          0.0 │\n",
      "│ Östgöta revision AB                                     │             2024 │                  1 │              0 │          0.0 │\n",
      "│ Östra Grevie Folkhögskoleförening                       │             2022 │                  1 │              0 │          0.0 │\n",
      "│ Östra Grevie Folkhögskoleförening                       │             2024 │                  1 │              0 │          0.0 │\n",
      "├─────────────────────────────────────────────────────────┴──────────────────┴────────────────────┴────────────────┴──────────────┤\n",
      "│ 1257 rows (20 shown)                                                                                                  5 columns │\n",
      "└─────────────────────────────────────────────────────────────────────────────────────────────────────────────────────────────────┘\n",
      "\n"
     ]
    }
   ],
   "source": [
    "con.sql(\"\"\"\n",
    "        select\n",
    "            \"Utbildningsanordnare\",\n",
    "            \"Ansökningsomgång\",\n",
    "            count (\"Diarienummer\") as \"diarienummer_count\",\n",
    "            sum(case when \"Beslut\" = true then 1 else 0 end) as beviljad_count,\n",
    "            round(100.0 * sum(case when \"Beslut\" = true then 1 else 0 end) / count(*), 2) as beviljad_pct\n",
    "        from beslut\n",
    "        group by \"Utbildningsanordnare\", \"Ansökningsomgång\"\n",
    "        order by \"beviljad_count\" desc, \"Utbildningsanordnare\", \"Ansökningsomgång\";\n",
    "        \"\"\").show()"
   ]
  },
  {
   "cell_type": "code",
   "execution_count": 409,
   "metadata": {},
   "outputs": [
    {
     "data": {
      "text/plain": [
       "┌───────────────┬────────────────┬─────────────────┬─────────────┐\n",
       "│ Diarienummer  │ Antal kommuner │ Antal beviljade │ Beviljade % │\n",
       "│    varchar    │     int64      │     int128      │   double    │\n",
       "├───────────────┼────────────────┼─────────────────┼─────────────┤\n",
       "│ MYH 2024/4220 │              3 │               3 │       100.0 │\n",
       "└───────────────┴────────────────┴─────────────────┴─────────────┘"
      ]
     },
     "execution_count": 409,
     "metadata": {},
     "output_type": "execute_result"
    }
   ],
   "source": [
    "con.sql(\"\"\"\n",
    "        select\n",
    "            \"Diarienummer\",\n",
    "            count(*) as \"Antal kommuner\",\n",
    "            sum(case when \"Beslut\" = true then 1 else 0 end) as \"Antal beviljade\",\n",
    "            round(100.0 * sum(case when \"Beslut\" = true then 1 else 0 end) / count(*), 2) as \"Beviljade %\"\n",
    "        from diarie\n",
    "        where \"Diarienummer\" = 'MYH 2024/4220'\n",
    "        group by \"Diarienummer\"\n",
    "        \"\"\")"
   ]
  },
  {
   "cell_type": "code",
   "execution_count": 410,
   "metadata": {},
   "outputs": [
    {
     "name": "stdout",
     "output_type": "stream",
     "text": [
      "┌──────────────┬────────────────┬─────────────────┬──────────────┬─────────────┐\n",
      "│ Diarienummer │ Antal kommuner │ Antal beviljade │ Antal avslag │ Beviljade % │\n",
      "│   varchar    │     int64      │     int128      │    int128    │   double    │\n",
      "├──────────────┴────────────────┴─────────────────┴──────────────┴─────────────┤\n",
      "│                                    0 rows                                    │\n",
      "└──────────────────────────────────────────────────────────────────────────────┘\n",
      "\n"
     ]
    }
   ],
   "source": [
    "con.sql(\"\"\"\n",
    "SELECT\n",
    "    \"Diarienummer\",\n",
    "    COUNT(*) AS \"Antal kommuner\",\n",
    "    SUM(CASE WHEN \"Beslut\" = TRUE THEN 1 ELSE 0 END) AS \"Antal beviljade\",\n",
    "    SUM(CASE WHEN \"Beslut\" = FALSE THEN 1 ELSE 0 END) AS \"Antal avslag\",\n",
    "    ROUND(100.0 * SUM(CASE WHEN \"Beslut\" = TRUE THEN 1 ELSE 0 END) / COUNT(*), 2) AS \"Beviljade %\"\n",
    "FROM diarie\n",
    "GROUP BY \"Diarienummer\"\n",
    "HAVING \n",
    "    SUM(CASE WHEN \"Beslut\" = TRUE THEN 1 ELSE 0 END) > 0\n",
    "    AND\n",
    "    SUM(CASE WHEN \"Beslut\" = FALSE THEN 1 ELSE 0 END) > 0\n",
    "ORDER BY \"Antal kommuner\" DESC;\n",
    "        \"\"\").show()\n"
   ]
  },
  {
   "cell_type": "code",
   "execution_count": 411,
   "metadata": {},
   "outputs": [
    {
     "name": "stdout",
     "output_type": "stream",
     "text": [
      "┌──────────────┬────────────────┬────────────┬────────────┬──────────────────┐\n",
      "│ Diarienummer │ Antal kommuner │ Min_beslut │ Max_beslut │ Decision_pattern │\n",
      "│   varchar    │     int64      │  boolean   │  boolean   │     varchar      │\n",
      "├──────────────┴────────────────┴────────────┴────────────┴──────────────────┤\n",
      "│                                   0 rows                                   │\n",
      "└────────────────────────────────────────────────────────────────────────────┘\n",
      "\n"
     ]
    }
   ],
   "source": [
    "con.sql(\"\"\"\n",
    "SELECT\n",
    "    \"Diarienummer\",\n",
    "    COUNT(*) AS \"Antal kommuner\",\n",
    "    MIN(\"Beslut\") AS \"Min_beslut\",\n",
    "    MAX(\"Beslut\") AS \"Max_beslut\",\n",
    "    CASE \n",
    "        WHEN MIN(\"Beslut\") = MAX(\"Beslut\") THEN 'Consistent'\n",
    "        ELSE 'Mixed'\n",
    "    END AS \"Decision_pattern\"\n",
    "FROM diarie\n",
    "GROUP BY \"Diarienummer\"\n",
    "HAVING \"Decision_pattern\" = 'Mixed';\n",
    "        \"\"\").show()\n"
   ]
  },
  {
   "cell_type": "code",
   "execution_count": 412,
   "metadata": {},
   "outputs": [],
   "source": [
    "# con.close()\n"
   ]
  }
 ],
 "metadata": {
  "kernelspec": {
   "display_name": ".venv",
   "language": "python",
   "name": "python3"
  },
  "language_info": {
   "codemirror_mode": {
    "name": "ipython",
    "version": 3
   },
   "file_extension": ".py",
   "mimetype": "text/x-python",
   "name": "python",
   "nbconvert_exporter": "python",
   "pygments_lexer": "ipython3",
   "version": "3.12.7"
  }
 },
 "nbformat": 4,
 "nbformat_minor": 2
}
