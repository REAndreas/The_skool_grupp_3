{
 "cells": [
  {
   "cell_type": "code",
   "execution_count": 113,
   "metadata": {},
   "outputs": [],
   "source": [
    "import duckdb as ddb\n",
    "import pandas as pd\n",
    "import plotly.graph_objects as go\n",
    "\n",
    "con = ddb.connect(database=\":memory:\")\n",
    "\n",
    "con.sql(\"\"\"\n",
    "CREATE TABLE program_beslut AS\n",
    "    FROM 'data/resultat-ansokningsomgang-2020-2024-beslut.csv';\n",
    "CREATE TABLE program_kommun AS\n",
    "    FROM 'data/resultat-ansokningsomgang-2020-2024-diarie_kommun.csv';\n",
    "\n",
    "CREATE TABLE kurser_beslut AS\n",
    "    FROM 'data/resultat-for-kurser-inom-yh-2024-beslut.csv';\n",
    "CREATE TABLE kurser_kommun AS\n",
    "    FROM 'data/resultat-for-kurser-inom-yh-2024-diarie_kommun.csv';\n",
    "\n",
    "CREATE TABLE kommun_lan AS\n",
    "    FROM 'data/kommunlankod-2025.csv';       \n",
    "\"\"\")"
   ]
  },
  {
   "cell_type": "code",
   "execution_count": 114,
   "metadata": {},
   "outputs": [],
   "source": [
    "def create_df_utbildningsomrade_beslut_single(\n",
    "    con, beslut=True, utbildningsanordnare: list[str] | None = None, year=2024\n",
    "):\n",
    "    rel = con.sql(\n",
    "        \"\"\"\n",
    "    select\n",
    "        Utbildningsområde,\n",
    "        count(*) as Beslut\n",
    "    from kurser_beslut\n",
    "    where\n",
    "        ( $utb IS NULL OR Utbildningsanordnare = ANY($utb) )\n",
    "        and Ansökningsomgång = $year\n",
    "        and Beslut = $beslut\n",
    "    group by Utbildningsområde\n",
    "    order by Beslut desc, Utbildningsområde\n",
    "    ;\"\"\",\n",
    "        params={\"beslut\": beslut, \"year\": year, \"utb\": utbildningsanordnare},\n",
    "    )\n",
    "\n",
    "    df_rel: pd.Dataframe = rel.df().set_index(\"Utbildningsområde\")\n",
    "    return df_rel.rename(columns={\"Beslut\": \"Beviljade\" if beslut else \"Avslag\"})"
   ]
  },
  {
   "cell_type": "code",
   "execution_count": 115,
   "metadata": {},
   "outputs": [],
   "source": [
    "def create_df_utbildningsomrade_beslut_merge(con):\n",
    "    df_utbildningsomrade_beviljade = create_df_utbildningsomrade_beslut_single(con, beslut=True)\n",
    "    df_utbildningsomrade_avslag = create_df_utbildningsomrade_beslut_single(con, beslut=False)\n",
    "\n",
    "    df_utbildningsomrade_beslut = pd.merge(\n",
    "        df_utbildningsomrade_beviljade,\n",
    "        df_utbildningsomrade_avslag,\n",
    "        left_index=True,\n",
    "        right_index=True,\n",
    "    )\n",
    "\n",
    "    df_utbildningsomrade_beslut[\"diff_beslut\"] = abs(\n",
    "        df_utbildningsomrade_beslut[\"Beviljade\"] - df_utbildningsomrade_beslut[\"Avslag\"]\n",
    "    )\n",
    "\n",
    "    return df_utbildningsomrade_beslut"
   ]
  },
  {
   "cell_type": "code",
   "execution_count": 116,
   "metadata": {},
   "outputs": [
    {
     "data": {
      "application/vnd.plotly.v1+json": {
       "config": {
        "plotlyServerURL": "https://plot.ly"
       },
       "data": [
        {
         "hovertemplate": "%{x}<extra>Beviljade</extra>",
         "insidetextanchor": "end",
         "marker": {
          "color": "rgba(246, 78, 139, 0.6)"
         },
         "name": "Beviljade",
         "orientation": "h",
         "text": {
          "bdata": "AAAAAABgZUAAAAAAAMBbQAAAAAAAgFpAAAAAAABAV0AAAAAAAEBUQAAAAAAAADNAAAAAAAAAMkAAAAAAAAAuQAAAAAAAACZAAAAAAAAAJkAAAAAAAAAmQAAAAAAAACRAAAAAAAAAEEA=",
          "dtype": "f8"
         },
         "textangle": 0,
         "textposition": "inside",
         "type": "bar",
         "x": {
          "bdata": "qwBvAGoAXQBRABMAEgAPAAsACwALAAoABAA=",
          "dtype": "i2"
         },
         "y": [
          "Ekonomi, administration och försäljning",
          "Data/IT",
          "Teknik och tillverkning",
          "Samhällsbyggnad och byggteknik",
          "Hälso- och sjukvård samt socialt arbete",
          "Hotell, restaurang och turism",
          "Lantbruk, djurvård, trädgård, skog och fiske",
          "Pedagogik och undervisning",
          "Journalistik och information",
          "Juridik",
          "Säkerhetstjänster",
          "Kultur, media och design",
          "Transporttjänster"
         ]
        },
        {
         "customdata": {
          "bdata": "cFQzKTUJGBIFCQsJAQ==",
          "dtype": "i1"
         },
         "hovertemplate": "%{customdata}<extra>Avslag</extra>",
         "insidetextanchor": "end",
         "marker": {
          "color": "rgba(58, 71, 80, 0.6)"
         },
         "name": "Avslag",
         "orientation": "h",
         "text": {
          "bdata": "AAAAAAAAXEAAAAAAAABVQAAAAAAAgElAAAAAAACAREAAAAAAAIBKQAAAAAAAACJAAAAAAAAAOEAAAAAAAAAyQAAAAAAAABRAAAAAAAAAIkAAAAAAAAAmQAAAAAAAACJAAAAAAAAA8D8=",
          "dtype": "f8"
         },
         "textangle": 0,
         "textposition": "inside",
         "type": "bar",
         "x": {
          "bdata": "Oxs3NBwKBgMGAgABAw==",
          "dtype": "i1"
         },
         "y": [
          "Ekonomi, administration och försäljning",
          "Data/IT",
          "Teknik och tillverkning",
          "Samhällsbyggnad och byggteknik",
          "Hälso- och sjukvård samt socialt arbete",
          "Hotell, restaurang och turism",
          "Lantbruk, djurvård, trädgård, skog och fiske",
          "Pedagogik och undervisning",
          "Journalistik och information",
          "Juridik",
          "Säkerhetstjänster",
          "Kultur, media och design",
          "Transporttjänster"
         ]
        }
       ],
       "layout": {
        "barmode": "stack",
        "legend": {
         "traceorder": "normal"
        },
        "template": {
         "data": {
          "bar": [
           {
            "error_x": {
             "color": "#2a3f5f"
            },
            "error_y": {
             "color": "#2a3f5f"
            },
            "marker": {
             "line": {
              "color": "#E5ECF6",
              "width": 0.5
             },
             "pattern": {
              "fillmode": "overlay",
              "size": 10,
              "solidity": 0.2
             }
            },
            "type": "bar"
           }
          ],
          "barpolar": [
           {
            "marker": {
             "line": {
              "color": "#E5ECF6",
              "width": 0.5
             },
             "pattern": {
              "fillmode": "overlay",
              "size": 10,
              "solidity": 0.2
             }
            },
            "type": "barpolar"
           }
          ],
          "carpet": [
           {
            "aaxis": {
             "endlinecolor": "#2a3f5f",
             "gridcolor": "white",
             "linecolor": "white",
             "minorgridcolor": "white",
             "startlinecolor": "#2a3f5f"
            },
            "baxis": {
             "endlinecolor": "#2a3f5f",
             "gridcolor": "white",
             "linecolor": "white",
             "minorgridcolor": "white",
             "startlinecolor": "#2a3f5f"
            },
            "type": "carpet"
           }
          ],
          "choropleth": [
           {
            "colorbar": {
             "outlinewidth": 0,
             "ticks": ""
            },
            "type": "choropleth"
           }
          ],
          "contour": [
           {
            "colorbar": {
             "outlinewidth": 0,
             "ticks": ""
            },
            "colorscale": [
             [
              0,
              "#0d0887"
             ],
             [
              0.1111111111111111,
              "#46039f"
             ],
             [
              0.2222222222222222,
              "#7201a8"
             ],
             [
              0.3333333333333333,
              "#9c179e"
             ],
             [
              0.4444444444444444,
              "#bd3786"
             ],
             [
              0.5555555555555556,
              "#d8576b"
             ],
             [
              0.6666666666666666,
              "#ed7953"
             ],
             [
              0.7777777777777778,
              "#fb9f3a"
             ],
             [
              0.8888888888888888,
              "#fdca26"
             ],
             [
              1,
              "#f0f921"
             ]
            ],
            "type": "contour"
           }
          ],
          "contourcarpet": [
           {
            "colorbar": {
             "outlinewidth": 0,
             "ticks": ""
            },
            "type": "contourcarpet"
           }
          ],
          "heatmap": [
           {
            "colorbar": {
             "outlinewidth": 0,
             "ticks": ""
            },
            "colorscale": [
             [
              0,
              "#0d0887"
             ],
             [
              0.1111111111111111,
              "#46039f"
             ],
             [
              0.2222222222222222,
              "#7201a8"
             ],
             [
              0.3333333333333333,
              "#9c179e"
             ],
             [
              0.4444444444444444,
              "#bd3786"
             ],
             [
              0.5555555555555556,
              "#d8576b"
             ],
             [
              0.6666666666666666,
              "#ed7953"
             ],
             [
              0.7777777777777778,
              "#fb9f3a"
             ],
             [
              0.8888888888888888,
              "#fdca26"
             ],
             [
              1,
              "#f0f921"
             ]
            ],
            "type": "heatmap"
           }
          ],
          "histogram": [
           {
            "marker": {
             "pattern": {
              "fillmode": "overlay",
              "size": 10,
              "solidity": 0.2
             }
            },
            "type": "histogram"
           }
          ],
          "histogram2d": [
           {
            "colorbar": {
             "outlinewidth": 0,
             "ticks": ""
            },
            "colorscale": [
             [
              0,
              "#0d0887"
             ],
             [
              0.1111111111111111,
              "#46039f"
             ],
             [
              0.2222222222222222,
              "#7201a8"
             ],
             [
              0.3333333333333333,
              "#9c179e"
             ],
             [
              0.4444444444444444,
              "#bd3786"
             ],
             [
              0.5555555555555556,
              "#d8576b"
             ],
             [
              0.6666666666666666,
              "#ed7953"
             ],
             [
              0.7777777777777778,
              "#fb9f3a"
             ],
             [
              0.8888888888888888,
              "#fdca26"
             ],
             [
              1,
              "#f0f921"
             ]
            ],
            "type": "histogram2d"
           }
          ],
          "histogram2dcontour": [
           {
            "colorbar": {
             "outlinewidth": 0,
             "ticks": ""
            },
            "colorscale": [
             [
              0,
              "#0d0887"
             ],
             [
              0.1111111111111111,
              "#46039f"
             ],
             [
              0.2222222222222222,
              "#7201a8"
             ],
             [
              0.3333333333333333,
              "#9c179e"
             ],
             [
              0.4444444444444444,
              "#bd3786"
             ],
             [
              0.5555555555555556,
              "#d8576b"
             ],
             [
              0.6666666666666666,
              "#ed7953"
             ],
             [
              0.7777777777777778,
              "#fb9f3a"
             ],
             [
              0.8888888888888888,
              "#fdca26"
             ],
             [
              1,
              "#f0f921"
             ]
            ],
            "type": "histogram2dcontour"
           }
          ],
          "mesh3d": [
           {
            "colorbar": {
             "outlinewidth": 0,
             "ticks": ""
            },
            "type": "mesh3d"
           }
          ],
          "parcoords": [
           {
            "line": {
             "colorbar": {
              "outlinewidth": 0,
              "ticks": ""
             }
            },
            "type": "parcoords"
           }
          ],
          "pie": [
           {
            "automargin": true,
            "type": "pie"
           }
          ],
          "scatter": [
           {
            "fillpattern": {
             "fillmode": "overlay",
             "size": 10,
             "solidity": 0.2
            },
            "type": "scatter"
           }
          ],
          "scatter3d": [
           {
            "line": {
             "colorbar": {
              "outlinewidth": 0,
              "ticks": ""
             }
            },
            "marker": {
             "colorbar": {
              "outlinewidth": 0,
              "ticks": ""
             }
            },
            "type": "scatter3d"
           }
          ],
          "scattercarpet": [
           {
            "marker": {
             "colorbar": {
              "outlinewidth": 0,
              "ticks": ""
             }
            },
            "type": "scattercarpet"
           }
          ],
          "scattergeo": [
           {
            "marker": {
             "colorbar": {
              "outlinewidth": 0,
              "ticks": ""
             }
            },
            "type": "scattergeo"
           }
          ],
          "scattergl": [
           {
            "marker": {
             "colorbar": {
              "outlinewidth": 0,
              "ticks": ""
             }
            },
            "type": "scattergl"
           }
          ],
          "scattermap": [
           {
            "marker": {
             "colorbar": {
              "outlinewidth": 0,
              "ticks": ""
             }
            },
            "type": "scattermap"
           }
          ],
          "scattermapbox": [
           {
            "marker": {
             "colorbar": {
              "outlinewidth": 0,
              "ticks": ""
             }
            },
            "type": "scattermapbox"
           }
          ],
          "scatterpolar": [
           {
            "marker": {
             "colorbar": {
              "outlinewidth": 0,
              "ticks": ""
             }
            },
            "type": "scatterpolar"
           }
          ],
          "scatterpolargl": [
           {
            "marker": {
             "colorbar": {
              "outlinewidth": 0,
              "ticks": ""
             }
            },
            "type": "scatterpolargl"
           }
          ],
          "scatterternary": [
           {
            "marker": {
             "colorbar": {
              "outlinewidth": 0,
              "ticks": ""
             }
            },
            "type": "scatterternary"
           }
          ],
          "surface": [
           {
            "colorbar": {
             "outlinewidth": 0,
             "ticks": ""
            },
            "colorscale": [
             [
              0,
              "#0d0887"
             ],
             [
              0.1111111111111111,
              "#46039f"
             ],
             [
              0.2222222222222222,
              "#7201a8"
             ],
             [
              0.3333333333333333,
              "#9c179e"
             ],
             [
              0.4444444444444444,
              "#bd3786"
             ],
             [
              0.5555555555555556,
              "#d8576b"
             ],
             [
              0.6666666666666666,
              "#ed7953"
             ],
             [
              0.7777777777777778,
              "#fb9f3a"
             ],
             [
              0.8888888888888888,
              "#fdca26"
             ],
             [
              1,
              "#f0f921"
             ]
            ],
            "type": "surface"
           }
          ],
          "table": [
           {
            "cells": {
             "fill": {
              "color": "#EBF0F8"
             },
             "line": {
              "color": "white"
             }
            },
            "header": {
             "fill": {
              "color": "#C8D4E3"
             },
             "line": {
              "color": "white"
             }
            },
            "type": "table"
           }
          ]
         },
         "layout": {
          "annotationdefaults": {
           "arrowcolor": "#2a3f5f",
           "arrowhead": 0,
           "arrowwidth": 1
          },
          "autotypenumbers": "strict",
          "coloraxis": {
           "colorbar": {
            "outlinewidth": 0,
            "ticks": ""
           }
          },
          "colorscale": {
           "diverging": [
            [
             0,
             "#8e0152"
            ],
            [
             0.1,
             "#c51b7d"
            ],
            [
             0.2,
             "#de77ae"
            ],
            [
             0.3,
             "#f1b6da"
            ],
            [
             0.4,
             "#fde0ef"
            ],
            [
             0.5,
             "#f7f7f7"
            ],
            [
             0.6,
             "#e6f5d0"
            ],
            [
             0.7,
             "#b8e186"
            ],
            [
             0.8,
             "#7fbc41"
            ],
            [
             0.9,
             "#4d9221"
            ],
            [
             1,
             "#276419"
            ]
           ],
           "sequential": [
            [
             0,
             "#0d0887"
            ],
            [
             0.1111111111111111,
             "#46039f"
            ],
            [
             0.2222222222222222,
             "#7201a8"
            ],
            [
             0.3333333333333333,
             "#9c179e"
            ],
            [
             0.4444444444444444,
             "#bd3786"
            ],
            [
             0.5555555555555556,
             "#d8576b"
            ],
            [
             0.6666666666666666,
             "#ed7953"
            ],
            [
             0.7777777777777778,
             "#fb9f3a"
            ],
            [
             0.8888888888888888,
             "#fdca26"
            ],
            [
             1,
             "#f0f921"
            ]
           ],
           "sequentialminus": [
            [
             0,
             "#0d0887"
            ],
            [
             0.1111111111111111,
             "#46039f"
            ],
            [
             0.2222222222222222,
             "#7201a8"
            ],
            [
             0.3333333333333333,
             "#9c179e"
            ],
            [
             0.4444444444444444,
             "#bd3786"
            ],
            [
             0.5555555555555556,
             "#d8576b"
            ],
            [
             0.6666666666666666,
             "#ed7953"
            ],
            [
             0.7777777777777778,
             "#fb9f3a"
            ],
            [
             0.8888888888888888,
             "#fdca26"
            ],
            [
             1,
             "#f0f921"
            ]
           ]
          },
          "colorway": [
           "#636efa",
           "#EF553B",
           "#00cc96",
           "#ab63fa",
           "#FFA15A",
           "#19d3f3",
           "#FF6692",
           "#B6E880",
           "#FF97FF",
           "#FECB52"
          ],
          "font": {
           "color": "#2a3f5f"
          },
          "geo": {
           "bgcolor": "white",
           "lakecolor": "white",
           "landcolor": "#E5ECF6",
           "showlakes": true,
           "showland": true,
           "subunitcolor": "white"
          },
          "hoverlabel": {
           "align": "left"
          },
          "hovermode": "closest",
          "mapbox": {
           "style": "light"
          },
          "paper_bgcolor": "white",
          "plot_bgcolor": "#E5ECF6",
          "polar": {
           "angularaxis": {
            "gridcolor": "white",
            "linecolor": "white",
            "ticks": ""
           },
           "bgcolor": "#E5ECF6",
           "radialaxis": {
            "gridcolor": "white",
            "linecolor": "white",
            "ticks": ""
           }
          },
          "scene": {
           "xaxis": {
            "backgroundcolor": "#E5ECF6",
            "gridcolor": "white",
            "gridwidth": 2,
            "linecolor": "white",
            "showbackground": true,
            "ticks": "",
            "zerolinecolor": "white"
           },
           "yaxis": {
            "backgroundcolor": "#E5ECF6",
            "gridcolor": "white",
            "gridwidth": 2,
            "linecolor": "white",
            "showbackground": true,
            "ticks": "",
            "zerolinecolor": "white"
           },
           "zaxis": {
            "backgroundcolor": "#E5ECF6",
            "gridcolor": "white",
            "gridwidth": 2,
            "linecolor": "white",
            "showbackground": true,
            "ticks": "",
            "zerolinecolor": "white"
           }
          },
          "shapedefaults": {
           "line": {
            "color": "#2a3f5f"
           }
          },
          "ternary": {
           "aaxis": {
            "gridcolor": "white",
            "linecolor": "white",
            "ticks": ""
           },
           "baxis": {
            "gridcolor": "white",
            "linecolor": "white",
            "ticks": ""
           },
           "bgcolor": "#E5ECF6",
           "caxis": {
            "gridcolor": "white",
            "linecolor": "white",
            "ticks": ""
           }
          },
          "title": {
           "x": 0.05
          },
          "xaxis": {
           "automargin": true,
           "gridcolor": "white",
           "linecolor": "white",
           "ticks": "",
           "title": {
            "standoff": 15
           },
           "zerolinecolor": "white",
           "zerolinewidth": 2
          },
          "yaxis": {
           "automargin": true,
           "gridcolor": "white",
           "linecolor": "white",
           "ticks": "",
           "title": {
            "standoff": 15
           },
           "zerolinecolor": "white",
           "zerolinewidth": 2
          }
         }
        },
        "yaxis": {
         "categoryarray": [
          "Transporttjänster",
          "Kultur, media och design",
          "Journalistik och information",
          "Juridik",
          "Säkerhetstjänster",
          "Pedagogik och undervisning",
          "Lantbruk, djurvård, trädgård, skog och fiske",
          "Hotell, restaurang och turism",
          "Hälso- och sjukvård samt socialt arbete",
          "Samhällsbyggnad och byggteknik",
          "Teknik och tillverkning",
          "Data/IT",
          "Ekonomi, administration och försäljning"
         ],
         "categoryorder": "array"
        }
       }
      }
     },
     "metadata": {},
     "output_type": "display_data"
    }
   ],
   "source": [
    "def make_fig_utbildningsomrade_beslut(df_utbildningsomrade_beslut):\n",
    "    fig = go.Figure()\n",
    "\n",
    "    fig.add_trace(\n",
    "        go.Bar(\n",
    "            y=df_utbildningsomrade_beslut.index,\n",
    "            x=df_utbildningsomrade_beslut[\"Beviljade\"],\n",
    "            name=\"Beviljade\",\n",
    "            hovertemplate=\"%{x}<extra>Beviljade</extra>\",\n",
    "            orientation=\"h\",\n",
    "            text=df_utbildningsomrade_beslut[\"Beviljade\"],\n",
    "            textposition=\"inside\",\n",
    "            insidetextanchor=\"end\",\n",
    "            textangle=0,\n",
    "            marker=dict(color=\"rgba(246, 78, 139, 0.6)\"),\n",
    "        )\n",
    "    )\n",
    "\n",
    "    fig.add_trace(\n",
    "        go.Bar(\n",
    "            y=df_utbildningsomrade_beslut.index,\n",
    "            x=df_utbildningsomrade_beslut[\"diff_beslut\"],\n",
    "            name=\"Avslag\",\n",
    "            customdata=df_utbildningsomrade_beslut[\"Avslag\"],\n",
    "            hovertemplate=\"%{customdata}<extra>Avslag</extra>\",\n",
    "            orientation=\"h\",\n",
    "            text=df_utbildningsomrade_beslut[\"Avslag\"],\n",
    "            textposition=\"inside\",\n",
    "            insidetextanchor=\"end\",\n",
    "            textangle=0,\n",
    "            marker=dict(color=\"rgba(58, 71, 80, 0.6)\"),\n",
    "        )\n",
    "    )\n",
    "\n",
    "    sort_order = df_utbildningsomrade_beslut.sort_values(\"Beviljade\").index\n",
    "\n",
    "    fig.update_layout(\n",
    "        barmode=\"stack\",\n",
    "        # yaxis={\"categoryorder\": \"total ascending\"},\n",
    "        yaxis={\"categoryorder\": \"array\", \"categoryarray\": sort_order},\n",
    "        legend=dict(traceorder=\"normal\"),\n",
    "    )\n",
    "\n",
    "    return fig\n",
    "\n",
    "\n",
    "df_utbildningsomrade_beslut = create_df_utbildningsomrade_beslut_merge(con)\n",
    "fig_utbildningsomrade_beslut = make_fig_utbildningsomrade_beslut(df_utbildningsomrade_beslut)\n",
    "\n",
    "fig_utbildningsomrade_beslut.show()"
   ]
  },
  {
   "cell_type": "code",
   "execution_count": 117,
   "metadata": {},
   "outputs": [
    {
     "data": {
      "application/vnd.plotly.v1+json": {
       "config": {
        "plotlyServerURL": "https://plot.ly"
       },
       "data": [
        {
         "customdata": {
          "bdata": "cFQzKTUJGBIFCQsJAQ==",
          "dtype": "i1"
         },
         "hovertemplate": "%{customdata}<extra>Avslag</extra>",
         "insidetextanchor": "end",
         "marker": {
          "color": "rgba(58, 71, 80, 0.6)"
         },
         "name": "Avslag",
         "orientation": "h",
         "text": {
          "bdata": "AAAAAAAAXEAAAAAAAABVQAAAAAAAgElAAAAAAACAREAAAAAAAIBKQAAAAAAAACJAAAAAAAAAOEAAAAAAAAAyQAAAAAAAABRAAAAAAAAAIkAAAAAAAAAmQAAAAAAAACJAAAAAAAAA8D8=",
          "dtype": "f8"
         },
         "textangle": 0,
         "textposition": "inside",
         "type": "bar",
         "x": {
          "bdata": "cFQzKTUJGBIFCQsJAQ==",
          "dtype": "i1"
         },
         "y": [
          "Ekonomi, administration och försäljning",
          "Data/IT",
          "Teknik och tillverkning",
          "Samhällsbyggnad och byggteknik",
          "Hälso- och sjukvård samt socialt arbete",
          "Hotell, restaurang och turism",
          "Lantbruk, djurvård, trädgård, skog och fiske",
          "Pedagogik och undervisning",
          "Journalistik och information",
          "Juridik",
          "Säkerhetstjänster",
          "Kultur, media och design",
          "Transporttjänster"
         ]
        },
        {
         "hovertemplate": "%{x}<extra>Beviljade</extra>",
         "insidetextanchor": "end",
         "marker": {
          "color": "rgba(246, 78, 139, 0.6)"
         },
         "name": "Beviljade",
         "orientation": "h",
         "text": {
          "bdata": "AAAAAABgZUAAAAAAAMBbQAAAAAAAgFpAAAAAAABAV0AAAAAAAEBUQAAAAAAAADNAAAAAAAAAMkAAAAAAAAAuQAAAAAAAACZAAAAAAAAAJkAAAAAAAAAmQAAAAAAAACRAAAAAAAAAEEA=",
          "dtype": "f8"
         },
         "textangle": 0,
         "textposition": "inside",
         "type": "bar",
         "x": {
          "bdata": "qwBvAGoAXQBRABMAEgAPAAsACwALAAoABAA=",
          "dtype": "i2"
         },
         "y": [
          "Ekonomi, administration och försäljning",
          "Data/IT",
          "Teknik och tillverkning",
          "Samhällsbyggnad och byggteknik",
          "Hälso- och sjukvård samt socialt arbete",
          "Hotell, restaurang och turism",
          "Lantbruk, djurvård, trädgård, skog och fiske",
          "Pedagogik och undervisning",
          "Journalistik och information",
          "Juridik",
          "Säkerhetstjänster",
          "Kultur, media och design",
          "Transporttjänster"
         ]
        }
       ],
       "layout": {
        "legend": {
         "traceorder": "normal"
        },
        "template": {
         "data": {
          "bar": [
           {
            "error_x": {
             "color": "#2a3f5f"
            },
            "error_y": {
             "color": "#2a3f5f"
            },
            "marker": {
             "line": {
              "color": "#E5ECF6",
              "width": 0.5
             },
             "pattern": {
              "fillmode": "overlay",
              "size": 10,
              "solidity": 0.2
             }
            },
            "type": "bar"
           }
          ],
          "barpolar": [
           {
            "marker": {
             "line": {
              "color": "#E5ECF6",
              "width": 0.5
             },
             "pattern": {
              "fillmode": "overlay",
              "size": 10,
              "solidity": 0.2
             }
            },
            "type": "barpolar"
           }
          ],
          "carpet": [
           {
            "aaxis": {
             "endlinecolor": "#2a3f5f",
             "gridcolor": "white",
             "linecolor": "white",
             "minorgridcolor": "white",
             "startlinecolor": "#2a3f5f"
            },
            "baxis": {
             "endlinecolor": "#2a3f5f",
             "gridcolor": "white",
             "linecolor": "white",
             "minorgridcolor": "white",
             "startlinecolor": "#2a3f5f"
            },
            "type": "carpet"
           }
          ],
          "choropleth": [
           {
            "colorbar": {
             "outlinewidth": 0,
             "ticks": ""
            },
            "type": "choropleth"
           }
          ],
          "contour": [
           {
            "colorbar": {
             "outlinewidth": 0,
             "ticks": ""
            },
            "colorscale": [
             [
              0,
              "#0d0887"
             ],
             [
              0.1111111111111111,
              "#46039f"
             ],
             [
              0.2222222222222222,
              "#7201a8"
             ],
             [
              0.3333333333333333,
              "#9c179e"
             ],
             [
              0.4444444444444444,
              "#bd3786"
             ],
             [
              0.5555555555555556,
              "#d8576b"
             ],
             [
              0.6666666666666666,
              "#ed7953"
             ],
             [
              0.7777777777777778,
              "#fb9f3a"
             ],
             [
              0.8888888888888888,
              "#fdca26"
             ],
             [
              1,
              "#f0f921"
             ]
            ],
            "type": "contour"
           }
          ],
          "contourcarpet": [
           {
            "colorbar": {
             "outlinewidth": 0,
             "ticks": ""
            },
            "type": "contourcarpet"
           }
          ],
          "heatmap": [
           {
            "colorbar": {
             "outlinewidth": 0,
             "ticks": ""
            },
            "colorscale": [
             [
              0,
              "#0d0887"
             ],
             [
              0.1111111111111111,
              "#46039f"
             ],
             [
              0.2222222222222222,
              "#7201a8"
             ],
             [
              0.3333333333333333,
              "#9c179e"
             ],
             [
              0.4444444444444444,
              "#bd3786"
             ],
             [
              0.5555555555555556,
              "#d8576b"
             ],
             [
              0.6666666666666666,
              "#ed7953"
             ],
             [
              0.7777777777777778,
              "#fb9f3a"
             ],
             [
              0.8888888888888888,
              "#fdca26"
             ],
             [
              1,
              "#f0f921"
             ]
            ],
            "type": "heatmap"
           }
          ],
          "histogram": [
           {
            "marker": {
             "pattern": {
              "fillmode": "overlay",
              "size": 10,
              "solidity": 0.2
             }
            },
            "type": "histogram"
           }
          ],
          "histogram2d": [
           {
            "colorbar": {
             "outlinewidth": 0,
             "ticks": ""
            },
            "colorscale": [
             [
              0,
              "#0d0887"
             ],
             [
              0.1111111111111111,
              "#46039f"
             ],
             [
              0.2222222222222222,
              "#7201a8"
             ],
             [
              0.3333333333333333,
              "#9c179e"
             ],
             [
              0.4444444444444444,
              "#bd3786"
             ],
             [
              0.5555555555555556,
              "#d8576b"
             ],
             [
              0.6666666666666666,
              "#ed7953"
             ],
             [
              0.7777777777777778,
              "#fb9f3a"
             ],
             [
              0.8888888888888888,
              "#fdca26"
             ],
             [
              1,
              "#f0f921"
             ]
            ],
            "type": "histogram2d"
           }
          ],
          "histogram2dcontour": [
           {
            "colorbar": {
             "outlinewidth": 0,
             "ticks": ""
            },
            "colorscale": [
             [
              0,
              "#0d0887"
             ],
             [
              0.1111111111111111,
              "#46039f"
             ],
             [
              0.2222222222222222,
              "#7201a8"
             ],
             [
              0.3333333333333333,
              "#9c179e"
             ],
             [
              0.4444444444444444,
              "#bd3786"
             ],
             [
              0.5555555555555556,
              "#d8576b"
             ],
             [
              0.6666666666666666,
              "#ed7953"
             ],
             [
              0.7777777777777778,
              "#fb9f3a"
             ],
             [
              0.8888888888888888,
              "#fdca26"
             ],
             [
              1,
              "#f0f921"
             ]
            ],
            "type": "histogram2dcontour"
           }
          ],
          "mesh3d": [
           {
            "colorbar": {
             "outlinewidth": 0,
             "ticks": ""
            },
            "type": "mesh3d"
           }
          ],
          "parcoords": [
           {
            "line": {
             "colorbar": {
              "outlinewidth": 0,
              "ticks": ""
             }
            },
            "type": "parcoords"
           }
          ],
          "pie": [
           {
            "automargin": true,
            "type": "pie"
           }
          ],
          "scatter": [
           {
            "fillpattern": {
             "fillmode": "overlay",
             "size": 10,
             "solidity": 0.2
            },
            "type": "scatter"
           }
          ],
          "scatter3d": [
           {
            "line": {
             "colorbar": {
              "outlinewidth": 0,
              "ticks": ""
             }
            },
            "marker": {
             "colorbar": {
              "outlinewidth": 0,
              "ticks": ""
             }
            },
            "type": "scatter3d"
           }
          ],
          "scattercarpet": [
           {
            "marker": {
             "colorbar": {
              "outlinewidth": 0,
              "ticks": ""
             }
            },
            "type": "scattercarpet"
           }
          ],
          "scattergeo": [
           {
            "marker": {
             "colorbar": {
              "outlinewidth": 0,
              "ticks": ""
             }
            },
            "type": "scattergeo"
           }
          ],
          "scattergl": [
           {
            "marker": {
             "colorbar": {
              "outlinewidth": 0,
              "ticks": ""
             }
            },
            "type": "scattergl"
           }
          ],
          "scattermap": [
           {
            "marker": {
             "colorbar": {
              "outlinewidth": 0,
              "ticks": ""
             }
            },
            "type": "scattermap"
           }
          ],
          "scattermapbox": [
           {
            "marker": {
             "colorbar": {
              "outlinewidth": 0,
              "ticks": ""
             }
            },
            "type": "scattermapbox"
           }
          ],
          "scatterpolar": [
           {
            "marker": {
             "colorbar": {
              "outlinewidth": 0,
              "ticks": ""
             }
            },
            "type": "scatterpolar"
           }
          ],
          "scatterpolargl": [
           {
            "marker": {
             "colorbar": {
              "outlinewidth": 0,
              "ticks": ""
             }
            },
            "type": "scatterpolargl"
           }
          ],
          "scatterternary": [
           {
            "marker": {
             "colorbar": {
              "outlinewidth": 0,
              "ticks": ""
             }
            },
            "type": "scatterternary"
           }
          ],
          "surface": [
           {
            "colorbar": {
             "outlinewidth": 0,
             "ticks": ""
            },
            "colorscale": [
             [
              0,
              "#0d0887"
             ],
             [
              0.1111111111111111,
              "#46039f"
             ],
             [
              0.2222222222222222,
              "#7201a8"
             ],
             [
              0.3333333333333333,
              "#9c179e"
             ],
             [
              0.4444444444444444,
              "#bd3786"
             ],
             [
              0.5555555555555556,
              "#d8576b"
             ],
             [
              0.6666666666666666,
              "#ed7953"
             ],
             [
              0.7777777777777778,
              "#fb9f3a"
             ],
             [
              0.8888888888888888,
              "#fdca26"
             ],
             [
              1,
              "#f0f921"
             ]
            ],
            "type": "surface"
           }
          ],
          "table": [
           {
            "cells": {
             "fill": {
              "color": "#EBF0F8"
             },
             "line": {
              "color": "white"
             }
            },
            "header": {
             "fill": {
              "color": "#C8D4E3"
             },
             "line": {
              "color": "white"
             }
            },
            "type": "table"
           }
          ]
         },
         "layout": {
          "annotationdefaults": {
           "arrowcolor": "#2a3f5f",
           "arrowhead": 0,
           "arrowwidth": 1
          },
          "autotypenumbers": "strict",
          "coloraxis": {
           "colorbar": {
            "outlinewidth": 0,
            "ticks": ""
           }
          },
          "colorscale": {
           "diverging": [
            [
             0,
             "#8e0152"
            ],
            [
             0.1,
             "#c51b7d"
            ],
            [
             0.2,
             "#de77ae"
            ],
            [
             0.3,
             "#f1b6da"
            ],
            [
             0.4,
             "#fde0ef"
            ],
            [
             0.5,
             "#f7f7f7"
            ],
            [
             0.6,
             "#e6f5d0"
            ],
            [
             0.7,
             "#b8e186"
            ],
            [
             0.8,
             "#7fbc41"
            ],
            [
             0.9,
             "#4d9221"
            ],
            [
             1,
             "#276419"
            ]
           ],
           "sequential": [
            [
             0,
             "#0d0887"
            ],
            [
             0.1111111111111111,
             "#46039f"
            ],
            [
             0.2222222222222222,
             "#7201a8"
            ],
            [
             0.3333333333333333,
             "#9c179e"
            ],
            [
             0.4444444444444444,
             "#bd3786"
            ],
            [
             0.5555555555555556,
             "#d8576b"
            ],
            [
             0.6666666666666666,
             "#ed7953"
            ],
            [
             0.7777777777777778,
             "#fb9f3a"
            ],
            [
             0.8888888888888888,
             "#fdca26"
            ],
            [
             1,
             "#f0f921"
            ]
           ],
           "sequentialminus": [
            [
             0,
             "#0d0887"
            ],
            [
             0.1111111111111111,
             "#46039f"
            ],
            [
             0.2222222222222222,
             "#7201a8"
            ],
            [
             0.3333333333333333,
             "#9c179e"
            ],
            [
             0.4444444444444444,
             "#bd3786"
            ],
            [
             0.5555555555555556,
             "#d8576b"
            ],
            [
             0.6666666666666666,
             "#ed7953"
            ],
            [
             0.7777777777777778,
             "#fb9f3a"
            ],
            [
             0.8888888888888888,
             "#fdca26"
            ],
            [
             1,
             "#f0f921"
            ]
           ]
          },
          "colorway": [
           "#636efa",
           "#EF553B",
           "#00cc96",
           "#ab63fa",
           "#FFA15A",
           "#19d3f3",
           "#FF6692",
           "#B6E880",
           "#FF97FF",
           "#FECB52"
          ],
          "font": {
           "color": "#2a3f5f"
          },
          "geo": {
           "bgcolor": "white",
           "lakecolor": "white",
           "landcolor": "#E5ECF6",
           "showlakes": true,
           "showland": true,
           "subunitcolor": "white"
          },
          "hoverlabel": {
           "align": "left"
          },
          "hovermode": "closest",
          "mapbox": {
           "style": "light"
          },
          "paper_bgcolor": "white",
          "plot_bgcolor": "#E5ECF6",
          "polar": {
           "angularaxis": {
            "gridcolor": "white",
            "linecolor": "white",
            "ticks": ""
           },
           "bgcolor": "#E5ECF6",
           "radialaxis": {
            "gridcolor": "white",
            "linecolor": "white",
            "ticks": ""
           }
          },
          "scene": {
           "xaxis": {
            "backgroundcolor": "#E5ECF6",
            "gridcolor": "white",
            "gridwidth": 2,
            "linecolor": "white",
            "showbackground": true,
            "ticks": "",
            "zerolinecolor": "white"
           },
           "yaxis": {
            "backgroundcolor": "#E5ECF6",
            "gridcolor": "white",
            "gridwidth": 2,
            "linecolor": "white",
            "showbackground": true,
            "ticks": "",
            "zerolinecolor": "white"
           },
           "zaxis": {
            "backgroundcolor": "#E5ECF6",
            "gridcolor": "white",
            "gridwidth": 2,
            "linecolor": "white",
            "showbackground": true,
            "ticks": "",
            "zerolinecolor": "white"
           }
          },
          "shapedefaults": {
           "line": {
            "color": "#2a3f5f"
           }
          },
          "ternary": {
           "aaxis": {
            "gridcolor": "white",
            "linecolor": "white",
            "ticks": ""
           },
           "baxis": {
            "gridcolor": "white",
            "linecolor": "white",
            "ticks": ""
           },
           "bgcolor": "#E5ECF6",
           "caxis": {
            "gridcolor": "white",
            "linecolor": "white",
            "ticks": ""
           }
          },
          "title": {
           "x": 0.05
          },
          "xaxis": {
           "automargin": true,
           "gridcolor": "white",
           "linecolor": "white",
           "ticks": "",
           "title": {
            "standoff": 15
           },
           "zerolinecolor": "white",
           "zerolinewidth": 2
          },
          "yaxis": {
           "automargin": true,
           "gridcolor": "white",
           "linecolor": "white",
           "ticks": "",
           "title": {
            "standoff": 15
           },
           "zerolinecolor": "white",
           "zerolinewidth": 2
          }
         }
        },
        "yaxis": {
         "categoryarray": [
          "Transporttjänster",
          "Kultur, media och design",
          "Journalistik och information",
          "Juridik",
          "Säkerhetstjänster",
          "Pedagogik och undervisning",
          "Lantbruk, djurvård, trädgård, skog och fiske",
          "Hotell, restaurang och turism",
          "Hälso- och sjukvård samt socialt arbete",
          "Samhällsbyggnad och byggteknik",
          "Teknik och tillverkning",
          "Data/IT",
          "Ekonomi, administration och försäljning"
         ],
         "categoryorder": "array"
        }
       }
      }
     },
     "metadata": {},
     "output_type": "display_data"
    }
   ],
   "source": [
    "def make_fig_utbildningsomrade_beslut(df_utbildningsomrade_beslut):\n",
    "    fig = go.Figure()\n",
    "\n",
    "    fig.add_trace(\n",
    "        go.Bar(\n",
    "            y=df_utbildningsomrade_beslut.index,\n",
    "            x=df_utbildningsomrade_beslut[\"Avslag\"],\n",
    "            name=\"Avslag\",\n",
    "            customdata=df_utbildningsomrade_beslut[\"Avslag\"],\n",
    "            hovertemplate=\"%{customdata}<extra>Avslag</extra>\",\n",
    "            orientation=\"h\",\n",
    "            text=df_utbildningsomrade_beslut[\"Avslag\"],\n",
    "            textposition=\"inside\",\n",
    "            insidetextanchor=\"end\",\n",
    "            textangle=0,\n",
    "            marker=dict(color=\"rgba(58, 71, 80, 0.6)\"),\n",
    "        )\n",
    "    )\n",
    "\n",
    "    fig.add_trace(\n",
    "        go.Bar(\n",
    "            y=df_utbildningsomrade_beslut.index,\n",
    "            x=df_utbildningsomrade_beslut[\"Beviljade\"],\n",
    "            name=\"Beviljade\",\n",
    "            hovertemplate=\"%{x}<extra>Beviljade</extra>\",\n",
    "            orientation=\"h\",\n",
    "            text=df_utbildningsomrade_beslut[\"Beviljade\"],\n",
    "            textposition=\"inside\",\n",
    "            insidetextanchor=\"end\",\n",
    "            textangle=0,\n",
    "            marker=dict(color=\"rgba(246, 78, 139, 0.6)\"),\n",
    "        )\n",
    "    )\n",
    "\n",
    "    sort_order = df_utbildningsomrade_beslut.sort_values(\"Beviljade\").index\n",
    "\n",
    "    fig.update_layout(\n",
    "        # barmode=\"stack\",\n",
    "        yaxis={\"categoryorder\": \"array\", \"categoryarray\": sort_order},\n",
    "        legend=dict(traceorder=\"normal\"),\n",
    "    )\n",
    "\n",
    "    return fig\n",
    "\n",
    "\n",
    "df_utbildningsomrade_beslut = create_df_utbildningsomrade_beslut_merge(con)\n",
    "fig_utbildningsomrade_beslut = make_fig_utbildningsomrade_beslut(df_utbildningsomrade_beslut)\n",
    "\n",
    "fig_utbildningsomrade_beslut.show()"
   ]
  },
  {
   "cell_type": "code",
   "execution_count": 118,
   "metadata": {},
   "outputs": [
    {
     "data": {
      "application/vnd.plotly.v1+json": {
       "config": {
        "plotlyServerURL": "https://plot.ly"
       },
       "data": [
        {
         "hovertemplate": "%{x}<extra>Avslag</extra>",
         "insidetextanchor": "end",
         "marker": {
          "color": "rgba(58, 71, 80, 0.6)"
         },
         "name": "Avslag",
         "orientation": "h",
         "text": {
          "bdata": "AAAAAAAAXEAAAAAAAABVQAAAAAAAgElAAAAAAACAREAAAAAAAIBKQAAAAAAAACJAAAAAAAAAOEAAAAAAAAAyQAAAAAAAABRAAAAAAAAAIkAAAAAAAAAmQAAAAAAAACJAAAAAAAAA8D8=",
          "dtype": "f8"
         },
         "textangle": 0,
         "textposition": "inside",
         "type": "bar",
         "x": {
          "bdata": "cFQzKTUJGBIFCQsJAQ==",
          "dtype": "i1"
         },
         "y": [
          "Ekonomi, administration och försäljning",
          "Data/IT",
          "Teknik och tillverkning",
          "Samhällsbyggnad och byggteknik",
          "Hälso- och sjukvård samt socialt arbete",
          "Hotell, restaurang och turism",
          "Lantbruk, djurvård, trädgård, skog och fiske",
          "Pedagogik och undervisning",
          "Journalistik och information",
          "Juridik",
          "Säkerhetstjänster",
          "Kultur, media och design",
          "Transporttjänster"
         ]
        },
        {
         "customdata": {
          "bdata": "qwBvAGoAXQBRABMAEgAPAAsACwALAAoABAA=",
          "dtype": "i2"
         },
         "hovertemplate": "%{customdata}<extra>Beviljade</extra>",
         "insidetextanchor": "end",
         "marker": {
          "color": "rgba(246, 78, 139, 0.6)"
         },
         "name": "Beviljade",
         "orientation": "h",
         "text": {
          "bdata": "AAAAAABgZUAAAAAAAMBbQAAAAAAAgFpAAAAAAABAV0AAAAAAAEBUQAAAAAAAADNAAAAAAAAAMkAAAAAAAAAuQAAAAAAAACZAAAAAAAAAJkAAAAAAAAAmQAAAAAAAACRAAAAAAAAAEEA=",
          "dtype": "f8"
         },
         "textangle": 0,
         "textposition": "outside",
         "type": "bar",
         "x": {
          "bdata": "Oxs3NBwK+v0GAgABAw==",
          "dtype": "i1"
         },
         "y": [
          "Ekonomi, administration och försäljning",
          "Data/IT",
          "Teknik och tillverkning",
          "Samhällsbyggnad och byggteknik",
          "Hälso- och sjukvård samt socialt arbete",
          "Hotell, restaurang och turism",
          "Lantbruk, djurvård, trädgård, skog och fiske",
          "Pedagogik och undervisning",
          "Journalistik och information",
          "Juridik",
          "Säkerhetstjänster",
          "Kultur, media och design",
          "Transporttjänster"
         ]
        }
       ],
       "layout": {
        "barmode": "stack",
        "legend": {
         "traceorder": "normal"
        },
        "template": {
         "data": {
          "bar": [
           {
            "error_x": {
             "color": "#2a3f5f"
            },
            "error_y": {
             "color": "#2a3f5f"
            },
            "marker": {
             "line": {
              "color": "#E5ECF6",
              "width": 0.5
             },
             "pattern": {
              "fillmode": "overlay",
              "size": 10,
              "solidity": 0.2
             }
            },
            "type": "bar"
           }
          ],
          "barpolar": [
           {
            "marker": {
             "line": {
              "color": "#E5ECF6",
              "width": 0.5
             },
             "pattern": {
              "fillmode": "overlay",
              "size": 10,
              "solidity": 0.2
             }
            },
            "type": "barpolar"
           }
          ],
          "carpet": [
           {
            "aaxis": {
             "endlinecolor": "#2a3f5f",
             "gridcolor": "white",
             "linecolor": "white",
             "minorgridcolor": "white",
             "startlinecolor": "#2a3f5f"
            },
            "baxis": {
             "endlinecolor": "#2a3f5f",
             "gridcolor": "white",
             "linecolor": "white",
             "minorgridcolor": "white",
             "startlinecolor": "#2a3f5f"
            },
            "type": "carpet"
           }
          ],
          "choropleth": [
           {
            "colorbar": {
             "outlinewidth": 0,
             "ticks": ""
            },
            "type": "choropleth"
           }
          ],
          "contour": [
           {
            "colorbar": {
             "outlinewidth": 0,
             "ticks": ""
            },
            "colorscale": [
             [
              0,
              "#0d0887"
             ],
             [
              0.1111111111111111,
              "#46039f"
             ],
             [
              0.2222222222222222,
              "#7201a8"
             ],
             [
              0.3333333333333333,
              "#9c179e"
             ],
             [
              0.4444444444444444,
              "#bd3786"
             ],
             [
              0.5555555555555556,
              "#d8576b"
             ],
             [
              0.6666666666666666,
              "#ed7953"
             ],
             [
              0.7777777777777778,
              "#fb9f3a"
             ],
             [
              0.8888888888888888,
              "#fdca26"
             ],
             [
              1,
              "#f0f921"
             ]
            ],
            "type": "contour"
           }
          ],
          "contourcarpet": [
           {
            "colorbar": {
             "outlinewidth": 0,
             "ticks": ""
            },
            "type": "contourcarpet"
           }
          ],
          "heatmap": [
           {
            "colorbar": {
             "outlinewidth": 0,
             "ticks": ""
            },
            "colorscale": [
             [
              0,
              "#0d0887"
             ],
             [
              0.1111111111111111,
              "#46039f"
             ],
             [
              0.2222222222222222,
              "#7201a8"
             ],
             [
              0.3333333333333333,
              "#9c179e"
             ],
             [
              0.4444444444444444,
              "#bd3786"
             ],
             [
              0.5555555555555556,
              "#d8576b"
             ],
             [
              0.6666666666666666,
              "#ed7953"
             ],
             [
              0.7777777777777778,
              "#fb9f3a"
             ],
             [
              0.8888888888888888,
              "#fdca26"
             ],
             [
              1,
              "#f0f921"
             ]
            ],
            "type": "heatmap"
           }
          ],
          "histogram": [
           {
            "marker": {
             "pattern": {
              "fillmode": "overlay",
              "size": 10,
              "solidity": 0.2
             }
            },
            "type": "histogram"
           }
          ],
          "histogram2d": [
           {
            "colorbar": {
             "outlinewidth": 0,
             "ticks": ""
            },
            "colorscale": [
             [
              0,
              "#0d0887"
             ],
             [
              0.1111111111111111,
              "#46039f"
             ],
             [
              0.2222222222222222,
              "#7201a8"
             ],
             [
              0.3333333333333333,
              "#9c179e"
             ],
             [
              0.4444444444444444,
              "#bd3786"
             ],
             [
              0.5555555555555556,
              "#d8576b"
             ],
             [
              0.6666666666666666,
              "#ed7953"
             ],
             [
              0.7777777777777778,
              "#fb9f3a"
             ],
             [
              0.8888888888888888,
              "#fdca26"
             ],
             [
              1,
              "#f0f921"
             ]
            ],
            "type": "histogram2d"
           }
          ],
          "histogram2dcontour": [
           {
            "colorbar": {
             "outlinewidth": 0,
             "ticks": ""
            },
            "colorscale": [
             [
              0,
              "#0d0887"
             ],
             [
              0.1111111111111111,
              "#46039f"
             ],
             [
              0.2222222222222222,
              "#7201a8"
             ],
             [
              0.3333333333333333,
              "#9c179e"
             ],
             [
              0.4444444444444444,
              "#bd3786"
             ],
             [
              0.5555555555555556,
              "#d8576b"
             ],
             [
              0.6666666666666666,
              "#ed7953"
             ],
             [
              0.7777777777777778,
              "#fb9f3a"
             ],
             [
              0.8888888888888888,
              "#fdca26"
             ],
             [
              1,
              "#f0f921"
             ]
            ],
            "type": "histogram2dcontour"
           }
          ],
          "mesh3d": [
           {
            "colorbar": {
             "outlinewidth": 0,
             "ticks": ""
            },
            "type": "mesh3d"
           }
          ],
          "parcoords": [
           {
            "line": {
             "colorbar": {
              "outlinewidth": 0,
              "ticks": ""
             }
            },
            "type": "parcoords"
           }
          ],
          "pie": [
           {
            "automargin": true,
            "type": "pie"
           }
          ],
          "scatter": [
           {
            "fillpattern": {
             "fillmode": "overlay",
             "size": 10,
             "solidity": 0.2
            },
            "type": "scatter"
           }
          ],
          "scatter3d": [
           {
            "line": {
             "colorbar": {
              "outlinewidth": 0,
              "ticks": ""
             }
            },
            "marker": {
             "colorbar": {
              "outlinewidth": 0,
              "ticks": ""
             }
            },
            "type": "scatter3d"
           }
          ],
          "scattercarpet": [
           {
            "marker": {
             "colorbar": {
              "outlinewidth": 0,
              "ticks": ""
             }
            },
            "type": "scattercarpet"
           }
          ],
          "scattergeo": [
           {
            "marker": {
             "colorbar": {
              "outlinewidth": 0,
              "ticks": ""
             }
            },
            "type": "scattergeo"
           }
          ],
          "scattergl": [
           {
            "marker": {
             "colorbar": {
              "outlinewidth": 0,
              "ticks": ""
             }
            },
            "type": "scattergl"
           }
          ],
          "scattermap": [
           {
            "marker": {
             "colorbar": {
              "outlinewidth": 0,
              "ticks": ""
             }
            },
            "type": "scattermap"
           }
          ],
          "scattermapbox": [
           {
            "marker": {
             "colorbar": {
              "outlinewidth": 0,
              "ticks": ""
             }
            },
            "type": "scattermapbox"
           }
          ],
          "scatterpolar": [
           {
            "marker": {
             "colorbar": {
              "outlinewidth": 0,
              "ticks": ""
             }
            },
            "type": "scatterpolar"
           }
          ],
          "scatterpolargl": [
           {
            "marker": {
             "colorbar": {
              "outlinewidth": 0,
              "ticks": ""
             }
            },
            "type": "scatterpolargl"
           }
          ],
          "scatterternary": [
           {
            "marker": {
             "colorbar": {
              "outlinewidth": 0,
              "ticks": ""
             }
            },
            "type": "scatterternary"
           }
          ],
          "surface": [
           {
            "colorbar": {
             "outlinewidth": 0,
             "ticks": ""
            },
            "colorscale": [
             [
              0,
              "#0d0887"
             ],
             [
              0.1111111111111111,
              "#46039f"
             ],
             [
              0.2222222222222222,
              "#7201a8"
             ],
             [
              0.3333333333333333,
              "#9c179e"
             ],
             [
              0.4444444444444444,
              "#bd3786"
             ],
             [
              0.5555555555555556,
              "#d8576b"
             ],
             [
              0.6666666666666666,
              "#ed7953"
             ],
             [
              0.7777777777777778,
              "#fb9f3a"
             ],
             [
              0.8888888888888888,
              "#fdca26"
             ],
             [
              1,
              "#f0f921"
             ]
            ],
            "type": "surface"
           }
          ],
          "table": [
           {
            "cells": {
             "fill": {
              "color": "#EBF0F8"
             },
             "line": {
              "color": "white"
             }
            },
            "header": {
             "fill": {
              "color": "#C8D4E3"
             },
             "line": {
              "color": "white"
             }
            },
            "type": "table"
           }
          ]
         },
         "layout": {
          "annotationdefaults": {
           "arrowcolor": "#2a3f5f",
           "arrowhead": 0,
           "arrowwidth": 1
          },
          "autotypenumbers": "strict",
          "coloraxis": {
           "colorbar": {
            "outlinewidth": 0,
            "ticks": ""
           }
          },
          "colorscale": {
           "diverging": [
            [
             0,
             "#8e0152"
            ],
            [
             0.1,
             "#c51b7d"
            ],
            [
             0.2,
             "#de77ae"
            ],
            [
             0.3,
             "#f1b6da"
            ],
            [
             0.4,
             "#fde0ef"
            ],
            [
             0.5,
             "#f7f7f7"
            ],
            [
             0.6,
             "#e6f5d0"
            ],
            [
             0.7,
             "#b8e186"
            ],
            [
             0.8,
             "#7fbc41"
            ],
            [
             0.9,
             "#4d9221"
            ],
            [
             1,
             "#276419"
            ]
           ],
           "sequential": [
            [
             0,
             "#0d0887"
            ],
            [
             0.1111111111111111,
             "#46039f"
            ],
            [
             0.2222222222222222,
             "#7201a8"
            ],
            [
             0.3333333333333333,
             "#9c179e"
            ],
            [
             0.4444444444444444,
             "#bd3786"
            ],
            [
             0.5555555555555556,
             "#d8576b"
            ],
            [
             0.6666666666666666,
             "#ed7953"
            ],
            [
             0.7777777777777778,
             "#fb9f3a"
            ],
            [
             0.8888888888888888,
             "#fdca26"
            ],
            [
             1,
             "#f0f921"
            ]
           ],
           "sequentialminus": [
            [
             0,
             "#0d0887"
            ],
            [
             0.1111111111111111,
             "#46039f"
            ],
            [
             0.2222222222222222,
             "#7201a8"
            ],
            [
             0.3333333333333333,
             "#9c179e"
            ],
            [
             0.4444444444444444,
             "#bd3786"
            ],
            [
             0.5555555555555556,
             "#d8576b"
            ],
            [
             0.6666666666666666,
             "#ed7953"
            ],
            [
             0.7777777777777778,
             "#fb9f3a"
            ],
            [
             0.8888888888888888,
             "#fdca26"
            ],
            [
             1,
             "#f0f921"
            ]
           ]
          },
          "colorway": [
           "#636efa",
           "#EF553B",
           "#00cc96",
           "#ab63fa",
           "#FFA15A",
           "#19d3f3",
           "#FF6692",
           "#B6E880",
           "#FF97FF",
           "#FECB52"
          ],
          "font": {
           "color": "#2a3f5f"
          },
          "geo": {
           "bgcolor": "white",
           "lakecolor": "white",
           "landcolor": "#E5ECF6",
           "showlakes": true,
           "showland": true,
           "subunitcolor": "white"
          },
          "hoverlabel": {
           "align": "left"
          },
          "hovermode": "closest",
          "mapbox": {
           "style": "light"
          },
          "paper_bgcolor": "white",
          "plot_bgcolor": "#E5ECF6",
          "polar": {
           "angularaxis": {
            "gridcolor": "white",
            "linecolor": "white",
            "ticks": ""
           },
           "bgcolor": "#E5ECF6",
           "radialaxis": {
            "gridcolor": "white",
            "linecolor": "white",
            "ticks": ""
           }
          },
          "scene": {
           "xaxis": {
            "backgroundcolor": "#E5ECF6",
            "gridcolor": "white",
            "gridwidth": 2,
            "linecolor": "white",
            "showbackground": true,
            "ticks": "",
            "zerolinecolor": "white"
           },
           "yaxis": {
            "backgroundcolor": "#E5ECF6",
            "gridcolor": "white",
            "gridwidth": 2,
            "linecolor": "white",
            "showbackground": true,
            "ticks": "",
            "zerolinecolor": "white"
           },
           "zaxis": {
            "backgroundcolor": "#E5ECF6",
            "gridcolor": "white",
            "gridwidth": 2,
            "linecolor": "white",
            "showbackground": true,
            "ticks": "",
            "zerolinecolor": "white"
           }
          },
          "shapedefaults": {
           "line": {
            "color": "#2a3f5f"
           }
          },
          "ternary": {
           "aaxis": {
            "gridcolor": "white",
            "linecolor": "white",
            "ticks": ""
           },
           "baxis": {
            "gridcolor": "white",
            "linecolor": "white",
            "ticks": ""
           },
           "bgcolor": "#E5ECF6",
           "caxis": {
            "gridcolor": "white",
            "linecolor": "white",
            "ticks": ""
           }
          },
          "title": {
           "x": 0.05
          },
          "xaxis": {
           "automargin": true,
           "gridcolor": "white",
           "linecolor": "white",
           "ticks": "",
           "title": {
            "standoff": 15
           },
           "zerolinecolor": "white",
           "zerolinewidth": 2
          },
          "yaxis": {
           "automargin": true,
           "gridcolor": "white",
           "linecolor": "white",
           "ticks": "",
           "title": {
            "standoff": 15
           },
           "zerolinecolor": "white",
           "zerolinewidth": 2
          }
         }
        },
        "yaxis": {
         "categoryarray": [
          "Transporttjänster",
          "Kultur, media och design",
          "Journalistik och information",
          "Juridik",
          "Säkerhetstjänster",
          "Pedagogik och undervisning",
          "Lantbruk, djurvård, trädgård, skog och fiske",
          "Hotell, restaurang och turism",
          "Hälso- och sjukvård samt socialt arbete",
          "Samhällsbyggnad och byggteknik",
          "Teknik och tillverkning",
          "Data/IT",
          "Ekonomi, administration och försäljning"
         ],
         "categoryorder": "array"
        }
       }
      }
     },
     "metadata": {},
     "output_type": "display_data"
    }
   ],
   "source": [
    "def make_fig_utbildningsomrade_beslut(df_utbildningsomrade_beslut):\n",
    "    fig = go.Figure()\n",
    "\n",
    "    fig.add_trace(\n",
    "        go.Bar(\n",
    "            y=df_utbildningsomrade_beslut.index,\n",
    "            x=df_utbildningsomrade_beslut[\"Avslag\"],\n",
    "            name=\"Avslag\",\n",
    "            # customdata=df_utbildningsomrade_beslut[\"Avslag\"],\n",
    "            # hovertemplate=\"%{customdata}<extra>Avslag</extra>\",\n",
    "            hovertemplate=\"%{x}<extra>Avslag</extra>\",\n",
    "            orientation=\"h\",\n",
    "            text=df_utbildningsomrade_beslut[\"Avslag\"],\n",
    "            textposition=\"inside\",\n",
    "            insidetextanchor=\"end\",\n",
    "            textangle=0,\n",
    "            marker=dict(color=\"rgba(58, 71, 80, 0.6)\"),\n",
    "        )\n",
    "    )\n",
    "\n",
    "    fig.add_trace(\n",
    "        go.Bar(\n",
    "            y=df_utbildningsomrade_beslut.index,\n",
    "            x=df_utbildningsomrade_beslut[\"Beviljade\"] - df_utbildningsomrade_beslut[\"Avslag\"],\n",
    "            name=\"Beviljade\",\n",
    "            customdata=df_utbildningsomrade_beslut[\"Beviljade\"],\n",
    "            hovertemplate=\"%{customdata}<extra>Beviljade</extra>\",\n",
    "            # hovertemplate=\"%{x}<extra>Beviljade</extra>\",\n",
    "            orientation=\"h\",\n",
    "            text=df_utbildningsomrade_beslut[\"Beviljade\"],\n",
    "            textposition=\"outside\",\n",
    "            insidetextanchor=\"end\",\n",
    "            textangle=0,\n",
    "            marker=dict(color=\"rgba(246, 78, 139, 0.6)\"),\n",
    "        )\n",
    "    )\n",
    "\n",
    "    sort_order = df_utbildningsomrade_beslut.sort_values(\"Beviljade\").index\n",
    "\n",
    "    fig.update_layout(\n",
    "        barmode=\"stack\",\n",
    "        # yaxis={\"categoryorder\": \"total ascending\"},\n",
    "        yaxis={\"categoryorder\": \"array\", \"categoryarray\": sort_order},\n",
    "        legend=dict(traceorder=\"normal\"),\n",
    "    )\n",
    "\n",
    "    return fig\n",
    "\n",
    "\n",
    "df_utbildningsomrade_beslut = create_df_utbildningsomrade_beslut_merge(con)\n",
    "fig_utbildningsomrade_beslut = make_fig_utbildningsomrade_beslut(df_utbildningsomrade_beslut)\n",
    "\n",
    "fig_utbildningsomrade_beslut.show()"
   ]
  }
 ],
 "metadata": {
  "kernelspec": {
   "display_name": ".venv",
   "language": "python",
   "name": "python3"
  },
  "language_info": {
   "codemirror_mode": {
    "name": "ipython",
    "version": 3
   },
   "file_extension": ".py",
   "mimetype": "text/x-python",
   "name": "python",
   "nbconvert_exporter": "python",
   "pygments_lexer": "ipython3",
   "version": "3.12.7"
  }
 },
 "nbformat": 4,
 "nbformat_minor": 2
}
